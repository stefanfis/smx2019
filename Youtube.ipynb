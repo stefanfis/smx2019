{
 "cells": [
  {
   "cell_type": "markdown",
   "metadata": {},
   "source": [
    "# Youtube Ranking Analysis"
   ]
  },
  {
   "cell_type": "code",
   "execution_count": null,
   "metadata": {},
   "outputs": [],
   "source": [
    "import requests\n",
    "import json\n",
    "import time\n",
    "import glob\n",
    "import numpy as np\n",
    "import pandas as pd\n",
    "import seaborn as sns\n",
    "from matplotlib import pyplot as plt\n",
    "import math\n",
    "from scipy.stats import linregress\n",
    "import dateutil.parser\n",
    "import pickle\n",
    "from scipy import stats\n",
    "from IPython.display import IFrame"
   ]
  },
  {
   "cell_type": "code",
   "execution_count": null,
   "metadata": {},
   "outputs": [],
   "source": [
    "sns.set(style=\"darkgrid\")"
   ]
  },
  {
   "cell_type": "code",
   "execution_count": null,
   "metadata": {},
   "outputs": [],
   "source": [
    "api_key = \"YOUR YOUTUBE API KEY\""
   ]
  },
  {
   "cell_type": "code",
   "execution_count": null,
   "metadata": {},
   "outputs": [],
   "source": [
    "def fetch_videos(query):\n",
    "    \"\"\"\n",
    "    Expects a query string that's passed into the Youtube API.\n",
    "    Returns a list of Youtube video IDs\n",
    "    \"\"\"\n",
    "    api_params = {\n",
    "        'q': query,\n",
    "        'maxResults': 50,\n",
    "        'key': api_key,\n",
    "        'part':'id',\n",
    "        'type':'video',\n",
    "        'regionCode':'de',\n",
    "        'relevanceLanguage':'de'\n",
    "    }\n",
    "    api_url = 'https://www.googleapis.com/youtube/v3/search'\n",
    "    r = requests.get(api_url, params=api_params)\n",
    "    videos = r.json()\n",
    "    try:\n",
    "        ret = [item['id']['videoId'] for item in videos['items']]\n",
    "    except:\n",
    "        ret = []\n",
    "        print(videos)\n",
    "    return ret"
   ]
  },
  {
   "cell_type": "code",
   "execution_count": null,
   "metadata": {},
   "outputs": [],
   "source": [
    "video_ids = fetch_videos(\"smx münchen\")"
   ]
  },
  {
   "cell_type": "code",
   "execution_count": null,
   "metadata": {},
   "outputs": [],
   "source": [
    "video_ids[0:4]"
   ]
  },
  {
   "cell_type": "code",
   "execution_count": null,
   "metadata": {},
   "outputs": [],
   "source": [
    "video_id = 'yayI5-kPTkg'\n",
    "url = \"https://www.youtube.com/embed/\"+video_id+\"?rel=0&amp;controls=0&amp;showinfo=0\"\n",
    "IFrame(url, width=560, height=315)"
   ]
  },
  {
   "cell_type": "code",
   "execution_count": null,
   "metadata": {},
   "outputs": [],
   "source": [
    "def fetch_video_details(video_id):\n",
    "    \"\"\"\n",
    "    Expects a single video id or a list of multiple IDs\n",
    "    Returns the JSON object\n",
    "    \"\"\"\n",
    "    if type(video_id) is list:\n",
    "        video_id = ','.join(video_id)\n",
    "    api_params = {'id': video_id, 'key': api_key, 'part':'snippet,statistics'}\n",
    "    api_url = 'https://www.googleapis.com/youtube/v3/videos'\n",
    "    r = requests.get(api_url, params=api_params)\n",
    "    return r.json()"
   ]
  },
  {
   "cell_type": "code",
   "execution_count": null,
   "metadata": {},
   "outputs": [],
   "source": [
    "fetch_video_details('yayI5-kPTkg')"
   ]
  },
  {
   "cell_type": "code",
   "execution_count": null,
   "metadata": {},
   "outputs": [],
   "source": [
    "def fetch_and_store(query):\n",
    "    \"\"\"\n",
    "    Fetch videos for `query` and store the JSON results in folder youtube/results/\n",
    "    \"\"\"\n",
    "    video_ids = fetch_videos(query)\n",
    "    j = fetch_video_details(video_ids)\n",
    "    filename = \"youtube/results/\" + query + \".json\"\n",
    "    with open(filename, \"w\") as json_out:\n",
    "        json.dump(j, json_out)"
   ]
  },
  {
   "cell_type": "code",
   "execution_count": 1,
   "metadata": {},
   "outputs": [],
   "source": [
    "queries = [\"put your\", \"queries here\"]"
   ]
  },
  {
   "cell_type": "code",
   "execution_count": null,
   "metadata": {},
   "outputs": [],
   "source": [
    "# Uncomment to retrieve results from the API\n",
    "# Not needed for this tutorial\n",
    "#for q in queries:\n",
    "#    print(q)\n",
    "#    fetch_and_store(q)\n",
    "#    time.sleep(3)"
   ]
  },
  {
   "cell_type": "markdown",
   "metadata": {},
   "source": [
    "## Read ranking data"
   ]
  },
  {
   "cell_type": "code",
   "execution_count": null,
   "metadata": {},
   "outputs": [],
   "source": [
    "data = []\n",
    "yt_files = glob.glob(\"youtube/results/*.json\")\n",
    "for yt in yt_files:\n",
    "    j = json.loads( open(yt, 'r').read() )\n",
    "    data.extend( [ {\n",
    "        'query':yt,\n",
    "        'rank':i+1,\n",
    "        'id': item['id'],\n",
    "        'published':item['snippet']['publishedAt'],\n",
    "        'title':item['snippet']['title'],\n",
    "        'views':int(item['statistics']['viewCount']),\n",
    "        'likes':int(item['statistics'].get('likeCount',0)),\n",
    "        'comments':int(item['statistics'].get('commentCount',0)),\n",
    "        'tags':item.get('snippet',{}).get('tags','')\n",
    "    } for i, item in enumerate(j['items'])] )\n",
    "df = pd.DataFrame(data)"
   ]
  },
  {
   "cell_type": "code",
   "execution_count": null,
   "metadata": {},
   "outputs": [],
   "source": [
    "df.sample(n=5)"
   ]
  },
  {
   "cell_type": "markdown",
   "metadata": {},
   "source": [
    "## views"
   ]
  },
  {
   "cell_type": "code",
   "execution_count": null,
   "metadata": {},
   "outputs": [],
   "source": [
    "plt.figure(figsize=(15,8))\n",
    "sns.lineplot(x=\"rank\", y=\"views\", data=df);"
   ]
  },
  {
   "cell_type": "code",
   "execution_count": null,
   "metadata": {},
   "outputs": [],
   "source": [
    "linregress(df['rank'],df['views'])"
   ]
  },
  {
   "cell_type": "markdown",
   "metadata": {},
   "source": [
    "## Mean and Outliers"
   ]
  },
  {
   "cell_type": "code",
   "execution_count": null,
   "metadata": {},
   "outputs": [],
   "source": [
    "def create_mean_data(df, key_col, mean_col, start_index, size, algo='mean', ignore_zero=True, min_values=0):\n",
    "    \"\"\"\n",
    "    key_col     = The key to group the values\n",
    "    mean_col    = The column with the values to build the mean of\n",
    "    start_index = The lowest value of key_col\n",
    "    size        = start_index + size keys are processed\n",
    "    algo        = Calculate 'mean' or 'median'\n",
    "    ignore_zero = Sould zero values be ignored?\n",
    "    min_values  = Only columns with enough data should be considered\n",
    "    Returns a DF with columns key and mean\n",
    "    \"\"\"\n",
    "    # ranks: a dict of tuples (sum of all views at that position, number of videos) – the key is the rank\n",
    "    values = {key:[] for key in [i for i in range(start_index, start_index+size)]}\n",
    "    for index, item in df.iterrows():\n",
    "        if item[mean_col] > 0 or not ignore_zero:\n",
    "            if item[key_col] >= start_index and item[key_col] < start_index+size:\n",
    "                values[item[key_col]].append(item[mean_col])\n",
    "    views = []\n",
    "    for position in range(start_index, start_index+size):\n",
    "        if algo == 'median':\n",
    "            mean_val = np.median(values[position])\n",
    "        else:\n",
    "            mean_val = np.mean(values[position])\n",
    "        if len(values[position]) < min_values:\n",
    "            mean_val = 0\n",
    "        views.append({\n",
    "            'position': position,\n",
    "            mean_col: mean_val\n",
    "        })\n",
    "    return pd.DataFrame(views)"
   ]
  },
  {
   "cell_type": "code",
   "execution_count": null,
   "metadata": {},
   "outputs": [],
   "source": [
    "mean_df = create_mean_data(df, 'rank', 'views', 1, 50, algo=\"median\")\n",
    "mean_df.head()"
   ]
  },
  {
   "cell_type": "code",
   "execution_count": null,
   "metadata": {},
   "outputs": [],
   "source": [
    "plt.figure(figsize=(15,8))\n",
    "sns.lineplot(x=\"position\", y=\"views\", data=mean_df)"
   ]
  },
  {
   "cell_type": "code",
   "execution_count": null,
   "metadata": {},
   "outputs": [],
   "source": [
    "linregress(mean_df['position'],mean_df['views'])"
   ]
  },
  {
   "cell_type": "markdown",
   "metadata": {},
   "source": [
    "## likes"
   ]
  },
  {
   "cell_type": "code",
   "execution_count": null,
   "metadata": {},
   "outputs": [],
   "source": [
    "plt.figure(figsize=(15,8))\n",
    "sns.lineplot(x=\"rank\", y=\"likes\", data=df);"
   ]
  },
  {
   "cell_type": "code",
   "execution_count": null,
   "metadata": {},
   "outputs": [],
   "source": [
    "linregress(df['rank'],df['likes'])"
   ]
  },
  {
   "cell_type": "code",
   "execution_count": null,
   "metadata": {},
   "outputs": [],
   "source": [
    "mean_df = create_mean_data(df, 'rank', 'likes', 1, 50, algo=\"median\")\n",
    "mean_df.head()"
   ]
  },
  {
   "cell_type": "code",
   "execution_count": null,
   "metadata": {},
   "outputs": [],
   "source": [
    "plt.figure(figsize=(15,8))\n",
    "sns.lineplot(x=\"position\", y=\"likes\", data=mean_df)"
   ]
  },
  {
   "cell_type": "code",
   "execution_count": null,
   "metadata": {},
   "outputs": [],
   "source": [
    "linregress(mean_df['position'],mean_df['likes'])"
   ]
  },
  {
   "cell_type": "markdown",
   "metadata": {},
   "source": [
    "## comments"
   ]
  },
  {
   "cell_type": "code",
   "execution_count": null,
   "metadata": {},
   "outputs": [],
   "source": [
    "mean_df = create_mean_data(df, 'rank', 'comments', 1, 50, algo=\"median\")\n",
    "mean_df.head()"
   ]
  },
  {
   "cell_type": "code",
   "execution_count": null,
   "metadata": {},
   "outputs": [],
   "source": [
    "plt.figure(figsize=(15,8))\n",
    "sns.lineplot(x=\"position\", y=\"comments\", data=mean_df)"
   ]
  },
  {
   "cell_type": "code",
   "execution_count": null,
   "metadata": {},
   "outputs": [],
   "source": [
    "linregress(mean_df['position'],mean_df['comments'])"
   ]
  },
  {
   "cell_type": "markdown",
   "metadata": {},
   "source": [
    "## age"
   ]
  },
  {
   "cell_type": "code",
   "execution_count": null,
   "metadata": {},
   "outputs": [],
   "source": [
    "def get_date_diff(d1, d2):\n",
    "    \"\"\"\n",
    "    Expects d1, d2 in ISO 8601 format e.g. \"2019-03-25T16:00:00Z\"\n",
    "    Returns difference in days (as float)\n",
    "    \"\"\"\n",
    "    return abs(dateutil.parser.parse(d1)-dateutil.parser.parse(d2)).total_seconds()/86400"
   ]
  },
  {
   "cell_type": "code",
   "execution_count": null,
   "metadata": {},
   "outputs": [],
   "source": [
    "get_date_diff('2019-03-25T16:00:00Z','2019-03-25T04:00:00Z')"
   ]
  },
  {
   "cell_type": "code",
   "execution_count": null,
   "metadata": {},
   "outputs": [],
   "source": [
    "fetch_date = '2019-03-25T16:00:00Z'\n",
    "data = []\n",
    "yt_files = glob.glob(\"youtube/results/*.json\")\n",
    "for yt in yt_files:\n",
    "    j = json.loads( open(yt, 'r').read() )\n",
    "    data.extend( [ {\n",
    "        'rank':i+1,\n",
    "        'ago':get_date_diff(item['snippet']['publishedAt'],fetch_date),\n",
    "        'title':item['snippet']['title'],\n",
    "    } for i, item in enumerate(j['items'])] )\n",
    "df = pd.DataFrame(data)"
   ]
  },
  {
   "cell_type": "code",
   "execution_count": null,
   "metadata": {},
   "outputs": [],
   "source": [
    "df.sample(n=5)"
   ]
  },
  {
   "cell_type": "code",
   "execution_count": null,
   "metadata": {},
   "outputs": [],
   "source": [
    "plt.figure(figsize=(15,8))\n",
    "sns.lineplot(x=\"rank\", y=\"ago\", data=df);"
   ]
  },
  {
   "cell_type": "code",
   "execution_count": null,
   "metadata": {},
   "outputs": [],
   "source": [
    "linregress(df['rank'],df['ago'])"
   ]
  },
  {
   "cell_type": "code",
   "execution_count": null,
   "metadata": {},
   "outputs": [],
   "source": [
    "mean_df = create_mean_data(df, 'rank', 'ago', 1, 50, algo=\"mean\")\n",
    "mean_df.head()"
   ]
  },
  {
   "cell_type": "code",
   "execution_count": null,
   "metadata": {},
   "outputs": [],
   "source": [
    "plt.figure(figsize=(15,8))\n",
    "sns.lineplot(x=\"position\", y=\"ago\", data=mean_df)"
   ]
  },
  {
   "cell_type": "code",
   "execution_count": null,
   "metadata": {},
   "outputs": [],
   "source": [
    "linregress(mean_df['position'],mean_df['ago'])"
   ]
  },
  {
   "cell_type": "markdown",
   "metadata": {},
   "source": [
    "## Channels"
   ]
  },
  {
   "cell_type": "code",
   "execution_count": null,
   "metadata": {},
   "outputs": [],
   "source": [
    "fetch_date = '2019-03-25T16:00:00Z'\n",
    "data = []\n",
    "yt_files = glob.glob(\"youtube/results/*.json\")\n",
    "for yt in yt_files:\n",
    "    j = json.loads( open(yt, 'r').read() )\n",
    "    data.extend( [ {\n",
    "        'rank':i+1,\n",
    "        'channel':item['snippet'].get('channelId',''),\n",
    "        'ago':get_date_diff(item['snippet']['publishedAt'],fetch_date),\n",
    "        'title':item['snippet']['title'],\n",
    "        'tags':item.get('snippet',{}).get('tags','')\n",
    "    } for i, item in enumerate(j['items'])] )\n",
    "df = pd.DataFrame(data)"
   ]
  },
  {
   "cell_type": "code",
   "execution_count": null,
   "metadata": {},
   "outputs": [],
   "source": [
    "df.sample(n=5)"
   ]
  },
  {
   "cell_type": "code",
   "execution_count": null,
   "metadata": {},
   "outputs": [],
   "source": [
    "def fetch_channel_details(channel_id):\n",
    "    \"\"\"\n",
    "    Expects a single channel ID or a list of multiple IDs\n",
    "    Returns the JSON object\n",
    "    \"\"\"\n",
    "    if type(channel_id) is list:\n",
    "        channel_id = ','.join(channel_id)\n",
    "    api_params = {'id': channel_id, 'key': api_key, 'part':'snippet,statistics'}\n",
    "    api_url = 'https://www.googleapis.com/youtube/v3/channels'\n",
    "    r = requests.get(api_url, params=api_params)\n",
    "    return r.json()"
   ]
  },
  {
   "cell_type": "code",
   "execution_count": null,
   "metadata": {},
   "outputs": [],
   "source": [
    "fetch_channel_details('UClEYc6k6bQTC6wO7YSZ3Y2A')"
   ]
  },
  {
   "cell_type": "code",
   "execution_count": null,
   "metadata": {},
   "outputs": [],
   "source": [
    "channels = {}\n",
    "for index, row in df.iterrows():\n",
    "    channels[row[\"channel\"]] = {}"
   ]
  },
  {
   "cell_type": "code",
   "execution_count": null,
   "metadata": {},
   "outputs": [],
   "source": [
    "# Uncomment to fetch channel data via Youtube API\n",
    "# Update channel statistics stored in channels\n",
    "#i = 0\n",
    "#for ch_id in channels:\n",
    "#    if channels[ch_id] == {}:\n",
    "#        print(i, ch_id)\n",
    "#        j = fetch_channel_details(ch_id)\n",
    "#        channels[ch_id] = j['items'][0]['statistics']\n",
    "#        i = i + 1\n",
    "#        if i >= 300:\n",
    "#            break\n",
    "#        time.sleep(2)\n",
    "#\n",
    "#with open('youtube/channels.pickle3', 'wb') as f:\n",
    "#    pickle.dump(channels, f)"
   ]
  },
  {
   "cell_type": "code",
   "execution_count": null,
   "metadata": {},
   "outputs": [],
   "source": [
    "with open('youtube/channels.pickle3', 'rb') as f:\n",
    "    channels = pickle.load(f)"
   ]
  },
  {
   "cell_type": "code",
   "execution_count": null,
   "metadata": {},
   "outputs": [],
   "source": [
    "len([k for k in channels if channels[k] != {}])"
   ]
  },
  {
   "cell_type": "code",
   "execution_count": null,
   "metadata": {},
   "outputs": [],
   "source": [
    "channels['UClEYc6k6bQTC6wO7YSZ3Y2A']"
   ]
  },
  {
   "cell_type": "code",
   "execution_count": null,
   "metadata": {},
   "outputs": [],
   "source": [
    "fetch_date = '2019-03-25T16:00:00Z'\n",
    "data = []\n",
    "yt_files = glob.glob(\"youtube/results/*.json\")\n",
    "for yt in yt_files:\n",
    "    j = json.loads( open(yt, 'r').read() )\n",
    "    data.extend( [\n",
    "        {\n",
    "         'rank':i+1,\n",
    "         'channel':item['snippet'].get('channelId',''),\n",
    "         'subscribers':int(channels.get(item['snippet'].get('channelId',''))['subscriberCount']),\n",
    "         'views':int(channels.get(item['snippet'].get('channelId',''))['viewCount']),\n",
    "         'videos':int(channels.get(item['snippet'].get('channelId',''))['videoCount']),\n",
    "         'title':item['snippet']['title'],\n",
    "        } for i, item in enumerate(j['items'])] )\n",
    "df = pd.DataFrame(data)\n",
    "df.sample(n=5)"
   ]
  },
  {
   "cell_type": "markdown",
   "metadata": {},
   "source": [
    "### Channel Subscribers"
   ]
  },
  {
   "cell_type": "code",
   "execution_count": null,
   "metadata": {},
   "outputs": [],
   "source": [
    "plt.figure(figsize=(15,8))\n",
    "sns.lineplot(x=\"rank\", y=\"subscribers\", data=df);"
   ]
  },
  {
   "cell_type": "code",
   "execution_count": null,
   "metadata": {},
   "outputs": [],
   "source": [
    "linregress(df['rank'],df['subscribers'])"
   ]
  },
  {
   "cell_type": "code",
   "execution_count": null,
   "metadata": {},
   "outputs": [],
   "source": [
    "mean_df = create_mean_data(df, 'rank', 'subscribers', 1, 50, algo=\"median\")\n",
    "mean_df.head()"
   ]
  },
  {
   "cell_type": "code",
   "execution_count": null,
   "metadata": {},
   "outputs": [],
   "source": [
    "plt.figure(figsize=(15,8))\n",
    "sns.lineplot(x=\"position\", y=\"subscribers\", data=mean_df)"
   ]
  },
  {
   "cell_type": "code",
   "execution_count": null,
   "metadata": {},
   "outputs": [],
   "source": [
    "linregress(mean_df['position'],mean_df['subscribers'])"
   ]
  },
  {
   "cell_type": "markdown",
   "metadata": {},
   "source": [
    "### Channel Views"
   ]
  },
  {
   "cell_type": "code",
   "execution_count": null,
   "metadata": {},
   "outputs": [],
   "source": [
    "mean_df = create_mean_data(df, 'rank', 'views', 1, 50, algo=\"median\")\n",
    "mean_df.head()"
   ]
  },
  {
   "cell_type": "code",
   "execution_count": null,
   "metadata": {},
   "outputs": [],
   "source": [
    "plt.figure(figsize=(15,8))\n",
    "sns.lineplot(x=\"position\", y=\"views\", data=mean_df)"
   ]
  },
  {
   "cell_type": "code",
   "execution_count": null,
   "metadata": {},
   "outputs": [],
   "source": [
    "linregress(mean_df['position'],mean_df['views'])"
   ]
  },
  {
   "cell_type": "markdown",
   "metadata": {},
   "source": [
    "## Channel Videos"
   ]
  },
  {
   "cell_type": "code",
   "execution_count": null,
   "metadata": {},
   "outputs": [],
   "source": [
    "mean_df = create_mean_data(df, 'rank', 'videos', 1, 50, algo=\"median\")\n",
    "mean_df.head()"
   ]
  },
  {
   "cell_type": "code",
   "execution_count": null,
   "metadata": {},
   "outputs": [],
   "source": [
    "plt.figure(figsize=(15,8))\n",
    "sns.lineplot(x=\"position\", y=\"videos\", data=mean_df)"
   ]
  },
  {
   "cell_type": "code",
   "execution_count": null,
   "metadata": {},
   "outputs": [],
   "source": [
    "linregress(mean_df['position'],mean_df['videos'])"
   ]
  },
  {
   "cell_type": "markdown",
   "metadata": {},
   "source": [
    "## Title and Tags"
   ]
  },
  {
   "cell_type": "code",
   "execution_count": null,
   "metadata": {},
   "outputs": [],
   "source": [
    "def text_score(query, text):\n",
    "    \"\"\"\n",
    "    Calculates a score for the given query according to the given title\n",
    "    \"\"\"\n",
    "    score = 0\n",
    "    query = query.lower()\n",
    "    text = text.lower()\n",
    "    query_words = query.split()\n",
    "    # Exact match\n",
    "    if query in text:\n",
    "        score += 4\n",
    "    for qw in query_words:\n",
    "        if qw in text:\n",
    "            score += 1\n",
    "    return score"
   ]
  },
  {
   "cell_type": "code",
   "execution_count": null,
   "metadata": {},
   "outputs": [],
   "source": [
    "text_score('großer arber', 'Skiing Großer Arber GoPro 2017')"
   ]
  },
  {
   "cell_type": "code",
   "execution_count": null,
   "metadata": {},
   "outputs": [],
   "source": [
    "fetch_date = '2019-03-25T16:00:00Z'\n",
    "data = []\n",
    "yt_files = glob.glob(\"youtube/results/*.json\")\n",
    "for yt in yt_files:\n",
    "    j = json.loads( open(yt, 'r').read() )\n",
    "    query = yt.replace(\"youtube/results/\",\"\").replace(\".json\",\"\")\n",
    "    query_words = yt.replace(\"youtube/results/\",\"\").replace(\".json\",\"\").split()\n",
    "    data.extend( [\n",
    "        {\n",
    "         'rank':i+1,\n",
    "         'query':query,\n",
    "         'title':item['snippet']['title'],\n",
    "         'titleScore':text_score(query,item['snippet']['title']),\n",
    "         'tagScore':max([text_score(query,tag) for tag in item['snippet'].get('tags','')], default=0)\n",
    "        } for i, item in enumerate(j['items'])] )\n",
    "df = pd.DataFrame(data)\n",
    "df.sample(n=5)"
   ]
  },
  {
   "cell_type": "code",
   "execution_count": null,
   "metadata": {},
   "outputs": [],
   "source": [
    "mean_df = create_mean_data(df, 'rank', 'titleScore', 1, 50, ignore_zero=False)\n",
    "mean_df.head()"
   ]
  },
  {
   "cell_type": "code",
   "execution_count": null,
   "metadata": {},
   "outputs": [],
   "source": [
    "plt.figure(figsize=(15,8))\n",
    "sns.lineplot(x=\"position\", y=\"titleScore\", data=mean_df)"
   ]
  },
  {
   "cell_type": "code",
   "execution_count": null,
   "metadata": {},
   "outputs": [],
   "source": [
    "linregress(mean_df['position'],mean_df['titleScore'])"
   ]
  },
  {
   "cell_type": "code",
   "execution_count": null,
   "metadata": {},
   "outputs": [],
   "source": [
    "mean_df = create_mean_data(df, 'rank', 'tagScore', 1, 50, ignore_zero=False)\n",
    "mean_df.head()"
   ]
  },
  {
   "cell_type": "code",
   "execution_count": null,
   "metadata": {},
   "outputs": [],
   "source": [
    "plt.figure(figsize=(15,8))\n",
    "sns.lineplot(x=\"position\", y=\"tagScore\", data=mean_df)"
   ]
  },
  {
   "cell_type": "code",
   "execution_count": null,
   "metadata": {},
   "outputs": [],
   "source": [
    "linregress(mean_df['position'],mean_df['tagScore'])"
   ]
  },
  {
   "cell_type": "markdown",
   "metadata": {},
   "source": [
    "# Summary"
   ]
  },
  {
   "cell_type": "code",
   "execution_count": null,
   "metadata": {},
   "outputs": [],
   "source": [
    "summary = pd.DataFrame([\n",
    "    {\n",
    "        'name': 'Video Views',\n",
    "        'correlation': 0.80\n",
    "    },\n",
    "    {\n",
    "        'name': 'Video Likes',\n",
    "        'correlation': 0.77\n",
    "    },\n",
    "    {\n",
    "        'name': 'Video Kommentare',\n",
    "        'correlation': 0.55\n",
    "    },\n",
    "    {\n",
    "        'name': 'Channel Views',\n",
    "        'correlation': 0.49\n",
    "    },\n",
    "    {\n",
    "        'name': 'Video Alter',\n",
    "        'correlation': 0.35\n",
    "    },\n",
    "    {\n",
    "        'name': 'Channel Subscriber',\n",
    "        'correlation': 0.31\n",
    "    },\n",
    "    {\n",
    "        'name': 'Channel Anz. Videos',\n",
    "        'correlation': 0.33\n",
    "    },\n",
    "    {\n",
    "        'name': 'Video Titel Score',\n",
    "        'correlation': -0.10\n",
    "    },\n",
    "    {\n",
    "        'name': 'Video Tag Score',\n",
    "        'correlation': -0.11\n",
    "    },\n",
    "])"
   ]
  },
  {
   "cell_type": "code",
   "execution_count": null,
   "metadata": {},
   "outputs": [],
   "source": [
    "plt.figure(figsize=(15,8))\n",
    "sns.barplot(x=\"correlation\", y=\"name\", data=summary, palette=\"Blues_d\")"
   ]
  },
  {
   "cell_type": "code",
   "execution_count": null,
   "metadata": {},
   "outputs": [],
   "source": []
  }
 ],
 "metadata": {
  "kernelspec": {
   "display_name": "Python 3",
   "language": "python",
   "name": "python3"
  },
  "language_info": {
   "codemirror_mode": {
    "name": "ipython",
    "version": 3
   },
   "file_extension": ".py",
   "mimetype": "text/x-python",
   "name": "python",
   "nbconvert_exporter": "python",
   "pygments_lexer": "ipython3",
   "version": "3.7.2"
  }
 },
 "nbformat": 4,
 "nbformat_minor": 2
}
